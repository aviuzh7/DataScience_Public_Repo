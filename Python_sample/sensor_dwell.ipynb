{
 "cells": [
  {
   "cell_type": "code",
   "execution_count": 3,
   "metadata": {
    "button": false,
    "collapsed": true,
    "deletable": true,
    "new_sheet": false,
    "run_control": {
     "read_only": false
    }
   },
   "outputs": [],
   "source": [
    "InteractiveShell.ast_node_interactivity = \"all\""
   ]
  },
  {
   "cell_type": "markdown",
   "metadata": {
    "button": false,
    "deletable": true,
    "new_sheet": false,
    "run_control": {
     "read_only": false
    }
   },
   "source": [
    "# 1. Deserialization"
   ]
  },
  {
   "cell_type": "markdown",
   "metadata": {
    "button": false,
    "deletable": true,
    "new_sheet": false,
    "run_control": {
     "read_only": false
    }
   },
   "source": [
    "### 2020-09-10 11:40:05.000 to 2020-09-17 11:40:07.000 "
   ]
  },
  {
   "cell_type": "code",
   "execution_count": 47,
   "metadata": {
    "button": false,
    "collapsed": true,
    "deletable": true,
    "new_sheet": false,
    "run_control": {
     "read_only": false
    }
   },
   "outputs": [],
   "source": [
    "sensor1 = requests.get(\"https://api.app.geoctrl.com/v1/data/b8-27-eb-5a-a7-e1?limit=50000&page=0&start=2020-09-10T11%3A40%3A06.000Z&end=2020-09-17T11%3A40%3A06.000Z\",\n",
    "         auth=HTTPBasicAuth(\"3085089319\",\"03bb54cc-f13b-4a5c-b070-9d3ddf31615a\"))\n",
    "sensor2 = requests.get(\"https://api.app.geoctrl.com/v1/data/b8-27-eb-9d-4d-12?limit=50000&page=0&start=2020-09-10T11%3A40%3A06.000Z&end=2020-09-17T11%3A40%3A06.000Z\",\n",
    "         auth=HTTPBasicAuth(\"3085089319\",\"03bb54cc-f13b-4a5c-b070-9d3ddf31615a\"))"
   ]
  },
  {
   "cell_type": "code",
   "execution_count": 48,
   "metadata": {
    "button": false,
    "collapsed": true,
    "deletable": true,
    "new_sheet": false,
    "run_control": {
     "read_only": false
    }
   },
   "outputs": [],
   "source": [
    "sensor1_text = sensor1.text\n",
    "sensor2_text = sensor2.text"
   ]
  },
  {
   "cell_type": "code",
   "execution_count": 49,
   "metadata": {
    "button": false,
    "collapsed": false,
    "deletable": true,
    "new_sheet": false,
    "run_control": {
     "read_only": false
    }
   },
   "outputs": [
    {
     "name": "stdout",
     "output_type": "stream",
     "text": [
      "<class 'dict'>\n",
      "<class 'dict'>\n"
     ]
    }
   ],
   "source": [
    "data1 = json.loads(sensor1_text)\n",
    "print(type(data1))\n",
    "data2 = json.loads(sensor2_text)\n",
    "print(type(data2))"
   ]
  },
  {
   "cell_type": "code",
   "execution_count": 50,
   "metadata": {
    "button": false,
    "collapsed": true,
    "deletable": true,
    "new_sheet": false,
    "run_control": {
     "read_only": false
    }
   },
   "outputs": [],
   "source": [
    "#use get method: to see the key you want to look at. \n",
    "#keys method, values method, iterate through it via for loop or use .items to \n",
    "#iterate through key, value pairs. \n"
   ]
  },
  {
   "cell_type": "markdown",
   "metadata": {
    "button": false,
    "deletable": true,
    "new_sheet": false,
    "run_control": {
     "read_only": false
    }
   },
   "source": [
    "# 2. Manipulate Dictionary to something usable for analysis"
   ]
  },
  {
   "cell_type": "markdown",
   "metadata": {
    "button": false,
    "deletable": true,
    "new_sheet": false,
    "run_control": {
     "read_only": false
    }
   },
   "source": [
    "### 2.1. first sensor1"
   ]
  },
  {
   "cell_type": "code",
   "execution_count": 51,
   "metadata": {
    "button": false,
    "collapsed": false,
    "deletable": true,
    "new_sheet": false,
    "run_control": {
     "read_only": false
    }
   },
   "outputs": [
    {
     "name": "stdout",
     "output_type": "stream",
     "text": [
      "dict_keys(['id', 'data', 'links'])\n"
     ]
    }
   ],
   "source": [
    "print(data1.keys())\n",
    "# print(data1.values()) # we dont have any use for \"id\", \"data\", \"links\"\n",
    "# as the keys in the dictionary, we need to move them to "
   ]
  },
  {
   "cell_type": "code",
   "execution_count": 52,
   "metadata": {
    "button": false,
    "collapsed": true,
    "deletable": true,
    "new_sheet": false,
    "run_control": {
     "read_only": false
    }
   },
   "outputs": [],
   "source": [
    "# try and separate out the data into pandas dataframe perhaps\n",
    "data_access1 = data1[\"data\"]"
   ]
  },
  {
   "cell_type": "code",
   "execution_count": 53,
   "metadata": {
    "button": false,
    "collapsed": false,
    "deletable": true,
    "new_sheet": false,
    "run_control": {
     "read_only": false
    }
   },
   "outputs": [
    {
     "data": {
      "text/plain": [
       "list"
      ]
     },
     "execution_count": 53,
     "metadata": {},
     "output_type": "execute_result"
    }
   ],
   "source": [
    "type(data_access1)"
   ]
  },
  {
   "cell_type": "code",
   "execution_count": null,
   "metadata": {
    "button": false,
    "collapsed": false,
    "deletable": true,
    "new_sheet": false,
    "run_control": {
     "read_only": false
    }
   },
   "outputs": [],
   "source": [
    "data_access1 # hmm, list of dictionaries"
   ]
  },
  {
   "cell_type": "code",
   "execution_count": 55,
   "metadata": {
    "button": false,
    "collapsed": true,
    "deletable": true,
    "new_sheet": false,
    "run_control": {
     "read_only": false
    }
   },
   "outputs": [],
   "source": [
    "# # to access list use integers not strings\n",
    "# for data_primary in data_access1:\n",
    "#     print(data_primary)"
   ]
  },
  {
   "cell_type": "code",
   "execution_count": 56,
   "metadata": {
    "button": false,
    "collapsed": true,
    "deletable": true,
    "new_sheet": false,
    "run_control": {
     "read_only": false
    }
   },
   "outputs": [],
   "source": [
    "# type(data_primary)"
   ]
  },
  {
   "cell_type": "code",
   "execution_count": 41,
   "metadata": {
    "button": false,
    "collapsed": true,
    "deletable": true,
    "new_sheet": false,
    "run_control": {
     "read_only": false
    }
   },
   "outputs": [],
   "source": [
    "# print(data_primary.keys())\n",
    "# its only giving last value not entire thing\n",
    "# print(data_primary.values())"
   ]
  },
  {
   "cell_type": "code",
   "execution_count": 36,
   "metadata": {
    "button": false,
    "collapsed": true,
    "deletable": true,
    "new_sheet": false,
    "run_control": {
     "read_only": false
    }
   },
   "outputs": [],
   "source": [
    "# def getall_data1():\n",
    "#     data_access1 = data1[\"data\"]\n",
    "#     for data_primary in data_access1:\n",
    "#         print(data_primary)"
   ]
  },
  {
   "cell_type": "code",
   "execution_count": 57,
   "metadata": {
    "button": false,
    "collapsed": true,
    "deletable": true,
    "new_sheet": false,
    "run_control": {
     "read_only": false
    }
   },
   "outputs": [],
   "source": [
    "# list of dictionaries can be directly converted to dataframe\n",
    "# no need to go through steps above.\n",
    "sensor1data = pd.DataFrame(data_access1)"
   ]
  },
  {
   "cell_type": "code",
   "execution_count": 58,
   "metadata": {
    "button": false,
    "collapsed": false,
    "deletable": true,
    "new_sheet": false,
    "run_control": {
     "read_only": false
    }
   },
   "outputs": [
    {
     "data": {
      "text/html": [
       "<div>\n",
       "<style scoped>\n",
       "    .dataframe tbody tr th:only-of-type {\n",
       "        vertical-align: middle;\n",
       "    }\n",
       "\n",
       "    .dataframe tbody tr th {\n",
       "        vertical-align: top;\n",
       "    }\n",
       "\n",
       "    .dataframe thead th {\n",
       "        text-align: right;\n",
       "    }\n",
       "</style>\n",
       "<table border=\"1\" class=\"dataframe\">\n",
       "  <thead>\n",
       "    <tr style=\"text-align: right;\">\n",
       "      <th></th>\n",
       "      <th>src</th>\n",
       "      <th>rand</th>\n",
       "      <th>hash</th>\n",
       "      <th>rssi</th>\n",
       "      <th>ts</th>\n",
       "    </tr>\n",
       "  </thead>\n",
       "  <tbody>\n",
       "    <tr>\n",
       "      <th>0</th>\n",
       "      <td>bt</td>\n",
       "      <td>False</td>\n",
       "      <td>00:25:00:51:ae:39</td>\n",
       "      <td>-83</td>\n",
       "      <td>2020-09-10T11:40:06.000Z</td>\n",
       "    </tr>\n",
       "    <tr>\n",
       "      <th>1</th>\n",
       "      <td>bt</td>\n",
       "      <td>False</td>\n",
       "      <td>e4:85:01:fb:58:73</td>\n",
       "      <td>-85</td>\n",
       "      <td>2020-09-10T11:40:11.000Z</td>\n",
       "    </tr>\n",
       "    <tr>\n",
       "      <th>2</th>\n",
       "      <td>bt</td>\n",
       "      <td>False</td>\n",
       "      <td>00:25:00:51:ae:39</td>\n",
       "      <td>-89</td>\n",
       "      <td>2020-09-10T11:40:11.000Z</td>\n",
       "    </tr>\n",
       "    <tr>\n",
       "      <th>3</th>\n",
       "      <td>wifi</td>\n",
       "      <td>False</td>\n",
       "      <td>08:17:35:8c:2d:45</td>\n",
       "      <td>-48</td>\n",
       "      <td>2020-09-10T11:40:14.000Z</td>\n",
       "    </tr>\n",
       "    <tr>\n",
       "      <th>4</th>\n",
       "      <td>wifi</td>\n",
       "      <td>False</td>\n",
       "      <td>1c:bf:ce:22:7a:8c</td>\n",
       "      <td>-22</td>\n",
       "      <td>2020-09-10T11:40:14.000Z</td>\n",
       "    </tr>\n",
       "  </tbody>\n",
       "</table>\n",
       "</div>"
      ],
      "text/plain": [
       "    src   rand               hash  rssi                        ts\n",
       "0    bt  False  00:25:00:51:ae:39   -83  2020-09-10T11:40:06.000Z\n",
       "1    bt  False  e4:85:01:fb:58:73   -85  2020-09-10T11:40:11.000Z\n",
       "2    bt  False  00:25:00:51:ae:39   -89  2020-09-10T11:40:11.000Z\n",
       "3  wifi  False  08:17:35:8c:2d:45   -48  2020-09-10T11:40:14.000Z\n",
       "4  wifi  False  1c:bf:ce:22:7a:8c   -22  2020-09-10T11:40:14.000Z"
      ]
     },
     "execution_count": 58,
     "metadata": {},
     "output_type": "execute_result"
    },
    {
     "data": {
      "text/plain": [
       "(50000, 5)"
      ]
     },
     "execution_count": 58,
     "metadata": {},
     "output_type": "execute_result"
    }
   ],
   "source": [
    "sensor1data.head()\n",
    "sensor1data.shape"
   ]
  },
  {
   "cell_type": "markdown",
   "metadata": {
    "button": false,
    "deletable": true,
    "new_sheet": false,
    "run_control": {
     "read_only": false
    }
   },
   "source": [
    "### 2.2. repeat for sensor 2"
   ]
  },
  {
   "cell_type": "code",
   "execution_count": 59,
   "metadata": {
    "button": false,
    "collapsed": true,
    "deletable": true,
    "new_sheet": false,
    "run_control": {
     "read_only": false
    }
   },
   "outputs": [],
   "source": [
    "data_access2 = data2[\"data\"]"
   ]
  },
  {
   "cell_type": "code",
   "execution_count": null,
   "metadata": {
    "button": false,
    "collapsed": false,
    "deletable": true,
    "new_sheet": false,
    "run_control": {
     "read_only": false
    }
   },
   "outputs": [],
   "source": [
    "data_access2"
   ]
  },
  {
   "cell_type": "code",
   "execution_count": 61,
   "metadata": {
    "button": false,
    "collapsed": true,
    "deletable": true,
    "new_sheet": false,
    "run_control": {
     "read_only": false
    }
   },
   "outputs": [],
   "source": [
    "sensor2data = pd.DataFrame(data_access2)"
   ]
  },
  {
   "cell_type": "code",
   "execution_count": null,
   "metadata": {
    "button": false,
    "collapsed": false,
    "deletable": true,
    "new_sheet": false,
    "run_control": {
     "read_only": false
    }
   },
   "outputs": [],
   "source": [
    "sensor2data.head(50)\n",
    "sensor2data.shape"
   ]
  },
  {
   "cell_type": "code",
   "execution_count": 63,
   "metadata": {
    "button": false,
    "collapsed": true,
    "deletable": true,
    "new_sheet": false,
    "run_control": {
     "read_only": false
    }
   },
   "outputs": [],
   "source": [
    "# 5afe4e86b71b4271a7094102201510 : api key for world weatheronline\n",
    "# hash probably refers to geohashing, pretty much location indicators.\n",
    "# “dwell time” = amount of time it is reasonable to  assume a unique id has been continuously “visible”.\n",
    "# think the answer is in the differentials of time stamps regardless of connection strength. \n",
    "sensor1data.to_excel(\"sensor1.xlsx\", sheet_name=\"sensor1\", index=False)\n",
    "sensor2data.to_excel(\"sensor2.xlsx\", sheet_name=\"sensor2\", index=False)"
   ]
  },
  {
   "cell_type": "markdown",
   "metadata": {
    "button": false,
    "deletable": true,
    "new_sheet": false,
    "run_control": {
     "read_only": false
    }
   },
   "source": [
    "# 3. Analysis Chunk"
   ]
  },
  {
   "cell_type": "markdown",
   "metadata": {
    "button": false,
    "deletable": true,
    "new_sheet": false,
    "run_control": {
     "read_only": false
    }
   },
   "source": [
    "### 3.1. First sensor PK92"
   ]
  },
  {
   "cell_type": "code",
   "execution_count": 65,
   "metadata": {
    "button": false,
    "collapsed": false,
    "deletable": true,
    "new_sheet": false,
    "run_control": {
     "read_only": false
    }
   },
   "outputs": [
    {
     "data": {
      "text/html": [
       "<div>\n",
       "<style scoped>\n",
       "    .dataframe tbody tr th:only-of-type {\n",
       "        vertical-align: middle;\n",
       "    }\n",
       "\n",
       "    .dataframe tbody tr th {\n",
       "        vertical-align: top;\n",
       "    }\n",
       "\n",
       "    .dataframe thead th {\n",
       "        text-align: right;\n",
       "    }\n",
       "</style>\n",
       "<table border=\"1\" class=\"dataframe\">\n",
       "  <thead>\n",
       "    <tr style=\"text-align: right;\">\n",
       "      <th></th>\n",
       "      <th>src</th>\n",
       "      <th>rand</th>\n",
       "      <th>hash</th>\n",
       "      <th>rssi</th>\n",
       "      <th>ts</th>\n",
       "    </tr>\n",
       "  </thead>\n",
       "  <tbody>\n",
       "    <tr>\n",
       "      <th>0</th>\n",
       "      <td>bt</td>\n",
       "      <td>False</td>\n",
       "      <td>00:25:00:51:ae:39</td>\n",
       "      <td>-83</td>\n",
       "      <td>2020-09-10T11:40:06.000Z</td>\n",
       "    </tr>\n",
       "    <tr>\n",
       "      <th>1</th>\n",
       "      <td>bt</td>\n",
       "      <td>False</td>\n",
       "      <td>e4:85:01:fb:58:73</td>\n",
       "      <td>-85</td>\n",
       "      <td>2020-09-10T11:40:11.000Z</td>\n",
       "    </tr>\n",
       "    <tr>\n",
       "      <th>2</th>\n",
       "      <td>bt</td>\n",
       "      <td>False</td>\n",
       "      <td>00:25:00:51:ae:39</td>\n",
       "      <td>-89</td>\n",
       "      <td>2020-09-10T11:40:11.000Z</td>\n",
       "    </tr>\n",
       "    <tr>\n",
       "      <th>3</th>\n",
       "      <td>wifi</td>\n",
       "      <td>False</td>\n",
       "      <td>08:17:35:8c:2d:45</td>\n",
       "      <td>-48</td>\n",
       "      <td>2020-09-10T11:40:14.000Z</td>\n",
       "    </tr>\n",
       "    <tr>\n",
       "      <th>4</th>\n",
       "      <td>wifi</td>\n",
       "      <td>False</td>\n",
       "      <td>1c:bf:ce:22:7a:8c</td>\n",
       "      <td>-22</td>\n",
       "      <td>2020-09-10T11:40:14.000Z</td>\n",
       "    </tr>\n",
       "  </tbody>\n",
       "</table>\n",
       "</div>"
      ],
      "text/plain": [
       "    src   rand               hash  rssi                        ts\n",
       "0    bt  False  00:25:00:51:ae:39   -83  2020-09-10T11:40:06.000Z\n",
       "1    bt  False  e4:85:01:fb:58:73   -85  2020-09-10T11:40:11.000Z\n",
       "2    bt  False  00:25:00:51:ae:39   -89  2020-09-10T11:40:11.000Z\n",
       "3  wifi  False  08:17:35:8c:2d:45   -48  2020-09-10T11:40:14.000Z\n",
       "4  wifi  False  1c:bf:ce:22:7a:8c   -22  2020-09-10T11:40:14.000Z"
      ]
     },
     "execution_count": 65,
     "metadata": {},
     "output_type": "execute_result"
    }
   ],
   "source": [
    "sensor1data.head()"
   ]
  },
  {
   "cell_type": "code",
   "execution_count": 68,
   "metadata": {
    "button": false,
    "collapsed": false,
    "deletable": true,
    "new_sheet": false,
    "run_control": {
     "read_only": false
    }
   },
   "outputs": [
    {
     "data": {
      "text/html": [
       "<div>\n",
       "<style scoped>\n",
       "    .dataframe tbody tr th:only-of-type {\n",
       "        vertical-align: middle;\n",
       "    }\n",
       "\n",
       "    .dataframe tbody tr th {\n",
       "        vertical-align: top;\n",
       "    }\n",
       "\n",
       "    .dataframe thead th {\n",
       "        text-align: right;\n",
       "    }\n",
       "</style>\n",
       "<table border=\"1\" class=\"dataframe\">\n",
       "  <thead>\n",
       "    <tr style=\"text-align: right;\">\n",
       "      <th></th>\n",
       "      <th>src</th>\n",
       "      <th>rand</th>\n",
       "      <th>hash</th>\n",
       "      <th>rssi</th>\n",
       "      <th>ts</th>\n",
       "      <th>timestamp</th>\n",
       "    </tr>\n",
       "  </thead>\n",
       "  <tbody>\n",
       "    <tr>\n",
       "      <th>0</th>\n",
       "      <td>bt</td>\n",
       "      <td>False</td>\n",
       "      <td>00:25:00:51:ae:39</td>\n",
       "      <td>-83</td>\n",
       "      <td>2020-09-10T11:40:06.000Z</td>\n",
       "      <td>11:40:06</td>\n",
       "    </tr>\n",
       "    <tr>\n",
       "      <th>1</th>\n",
       "      <td>bt</td>\n",
       "      <td>False</td>\n",
       "      <td>e4:85:01:fb:58:73</td>\n",
       "      <td>-85</td>\n",
       "      <td>2020-09-10T11:40:11.000Z</td>\n",
       "      <td>11:40:11</td>\n",
       "    </tr>\n",
       "    <tr>\n",
       "      <th>2</th>\n",
       "      <td>bt</td>\n",
       "      <td>False</td>\n",
       "      <td>00:25:00:51:ae:39</td>\n",
       "      <td>-89</td>\n",
       "      <td>2020-09-10T11:40:11.000Z</td>\n",
       "      <td>11:40:11</td>\n",
       "    </tr>\n",
       "    <tr>\n",
       "      <th>3</th>\n",
       "      <td>wifi</td>\n",
       "      <td>False</td>\n",
       "      <td>08:17:35:8c:2d:45</td>\n",
       "      <td>-48</td>\n",
       "      <td>2020-09-10T11:40:14.000Z</td>\n",
       "      <td>11:40:14</td>\n",
       "    </tr>\n",
       "    <tr>\n",
       "      <th>4</th>\n",
       "      <td>wifi</td>\n",
       "      <td>False</td>\n",
       "      <td>1c:bf:ce:22:7a:8c</td>\n",
       "      <td>-22</td>\n",
       "      <td>2020-09-10T11:40:14.000Z</td>\n",
       "      <td>11:40:14</td>\n",
       "    </tr>\n",
       "  </tbody>\n",
       "</table>\n",
       "</div>"
      ],
      "text/plain": [
       "    src   rand               hash  rssi                        ts timestamp\n",
       "0    bt  False  00:25:00:51:ae:39   -83  2020-09-10T11:40:06.000Z  11:40:06\n",
       "1    bt  False  e4:85:01:fb:58:73   -85  2020-09-10T11:40:11.000Z  11:40:11\n",
       "2    bt  False  00:25:00:51:ae:39   -89  2020-09-10T11:40:11.000Z  11:40:11\n",
       "3  wifi  False  08:17:35:8c:2d:45   -48  2020-09-10T11:40:14.000Z  11:40:14\n",
       "4  wifi  False  1c:bf:ce:22:7a:8c   -22  2020-09-10T11:40:14.000Z  11:40:14"
      ]
     },
     "execution_count": 68,
     "metadata": {},
     "output_type": "execute_result"
    }
   ],
   "source": [
    "# use regex to separate out the timestamp, the days are the same for both the sensors. \n",
    "# regex code : (?:[01]\\d|2[0-3]):(?:[0-5]\\d):(?:[0-5]\\d)\n",
    "\n",
    "data = []\n",
    "for line in sensor1data[\"ts\"]:\n",
    "    time = re.search(\"(?:[01]\\d|2[0-3]):(?:[0-5]\\d):(?:[0-5]\\d)\", str(line))\n",
    "    if time:\n",
    "        data.append(time.group(0))\n",
    "    else:\n",
    "        data.append(\"no match\")\n",
    "sensor1data[\"timestamp\"] = data\n",
    "sensor1data.head()"
   ]
  },
  {
   "cell_type": "code",
   "execution_count": 77,
   "metadata": {
    "button": false,
    "collapsed": false,
    "deletable": true,
    "new_sheet": false,
    "run_control": {
     "read_only": false
    }
   },
   "outputs": [
    {
     "data": {
      "text/plain": [
       "src                  object\n",
       "rand                   bool\n",
       "hash                 object\n",
       "rssi                  int64\n",
       "ts                   object\n",
       "timestamp    datetime64[ns]\n",
       "dtype: object"
      ]
     },
     "execution_count": 77,
     "metadata": {},
     "output_type": "execute_result"
    }
   ],
   "source": [
    "# capture time differential\n",
    "sensor1data.dtypes"
   ]
  },
  {
   "cell_type": "code",
   "execution_count": 109,
   "metadata": {
    "button": false,
    "collapsed": true,
    "deletable": true,
    "new_sheet": false,
    "run_control": {
     "read_only": false
    }
   },
   "outputs": [],
   "source": [
    "# just making sure its in right format\n",
    "sensor1data[\"timestamp\"] = pd.to_datetime(sensor1data['timestamp'])"
   ]
  },
  {
   "cell_type": "code",
   "execution_count": 110,
   "metadata": {
    "button": false,
    "collapsed": true,
    "deletable": true,
    "new_sheet": false,
    "run_control": {
     "read_only": false
    }
   },
   "outputs": [],
   "source": [
    "sensor1data[\"deltaT\"] = sensor1data[\"timestamp\"].diff().dt.seconds.div(60, fill_value = 0)"
   ]
  },
  {
   "cell_type": "code",
   "execution_count": 111,
   "metadata": {
    "button": false,
    "collapsed": true,
    "deletable": true,
    "new_sheet": false,
    "run_control": {
     "read_only": false
    }
   },
   "outputs": [],
   "source": [
    "sensor1data[\"deltaT\"] = sensor1data[\"deltaT\"].round(2)"
   ]
  },
  {
   "cell_type": "code",
   "execution_count": 112,
   "metadata": {
    "button": false,
    "collapsed": false,
    "deletable": true,
    "new_sheet": false,
    "run_control": {
     "read_only": false
    }
   },
   "outputs": [
    {
     "data": {
      "text/html": [
       "<div>\n",
       "<style scoped>\n",
       "    .dataframe tbody tr th:only-of-type {\n",
       "        vertical-align: middle;\n",
       "    }\n",
       "\n",
       "    .dataframe tbody tr th {\n",
       "        vertical-align: top;\n",
       "    }\n",
       "\n",
       "    .dataframe thead th {\n",
       "        text-align: right;\n",
       "    }\n",
       "</style>\n",
       "<table border=\"1\" class=\"dataframe\">\n",
       "  <thead>\n",
       "    <tr style=\"text-align: right;\">\n",
       "      <th></th>\n",
       "      <th>src</th>\n",
       "      <th>rand</th>\n",
       "      <th>hash</th>\n",
       "      <th>rssi</th>\n",
       "      <th>ts</th>\n",
       "      <th>timestamp</th>\n",
       "      <th>deltaT</th>\n",
       "    </tr>\n",
       "  </thead>\n",
       "  <tbody>\n",
       "    <tr>\n",
       "      <th>0</th>\n",
       "      <td>bt</td>\n",
       "      <td>False</td>\n",
       "      <td>00:25:00:51:ae:39</td>\n",
       "      <td>-83</td>\n",
       "      <td>2020-09-10T11:40:06.000Z</td>\n",
       "      <td>2020-10-15 11:40:06</td>\n",
       "      <td>0.00</td>\n",
       "    </tr>\n",
       "    <tr>\n",
       "      <th>1</th>\n",
       "      <td>bt</td>\n",
       "      <td>False</td>\n",
       "      <td>e4:85:01:fb:58:73</td>\n",
       "      <td>-85</td>\n",
       "      <td>2020-09-10T11:40:11.000Z</td>\n",
       "      <td>2020-10-15 11:40:11</td>\n",
       "      <td>0.08</td>\n",
       "    </tr>\n",
       "    <tr>\n",
       "      <th>2</th>\n",
       "      <td>bt</td>\n",
       "      <td>False</td>\n",
       "      <td>00:25:00:51:ae:39</td>\n",
       "      <td>-89</td>\n",
       "      <td>2020-09-10T11:40:11.000Z</td>\n",
       "      <td>2020-10-15 11:40:11</td>\n",
       "      <td>0.00</td>\n",
       "    </tr>\n",
       "    <tr>\n",
       "      <th>3</th>\n",
       "      <td>wifi</td>\n",
       "      <td>False</td>\n",
       "      <td>08:17:35:8c:2d:45</td>\n",
       "      <td>-48</td>\n",
       "      <td>2020-09-10T11:40:14.000Z</td>\n",
       "      <td>2020-10-15 11:40:14</td>\n",
       "      <td>0.05</td>\n",
       "    </tr>\n",
       "    <tr>\n",
       "      <th>4</th>\n",
       "      <td>wifi</td>\n",
       "      <td>False</td>\n",
       "      <td>1c:bf:ce:22:7a:8c</td>\n",
       "      <td>-22</td>\n",
       "      <td>2020-09-10T11:40:14.000Z</td>\n",
       "      <td>2020-10-15 11:40:14</td>\n",
       "      <td>0.00</td>\n",
       "    </tr>\n",
       "  </tbody>\n",
       "</table>\n",
       "</div>"
      ],
      "text/plain": [
       "    src   rand               hash  rssi                        ts  \\\n",
       "0    bt  False  00:25:00:51:ae:39   -83  2020-09-10T11:40:06.000Z   \n",
       "1    bt  False  e4:85:01:fb:58:73   -85  2020-09-10T11:40:11.000Z   \n",
       "2    bt  False  00:25:00:51:ae:39   -89  2020-09-10T11:40:11.000Z   \n",
       "3  wifi  False  08:17:35:8c:2d:45   -48  2020-09-10T11:40:14.000Z   \n",
       "4  wifi  False  1c:bf:ce:22:7a:8c   -22  2020-09-10T11:40:14.000Z   \n",
       "\n",
       "            timestamp  deltaT  \n",
       "0 2020-10-15 11:40:06    0.00  \n",
       "1 2020-10-15 11:40:11    0.08  \n",
       "2 2020-10-15 11:40:11    0.00  \n",
       "3 2020-10-15 11:40:14    0.05  \n",
       "4 2020-10-15 11:40:14    0.00  "
      ]
     },
     "execution_count": 112,
     "metadata": {},
     "output_type": "execute_result"
    }
   ],
   "source": [
    "sensor1data.head()"
   ]
  },
  {
   "cell_type": "code",
   "execution_count": 122,
   "metadata": {
    "button": false,
    "collapsed": false,
    "deletable": true,
    "new_sheet": false,
    "run_control": {
     "read_only": false
    }
   },
   "outputs": [
    {
     "data": {
      "text/html": [
       "<div>\n",
       "<style scoped>\n",
       "    .dataframe tbody tr th:only-of-type {\n",
       "        vertical-align: middle;\n",
       "    }\n",
       "\n",
       "    .dataframe tbody tr th {\n",
       "        vertical-align: top;\n",
       "    }\n",
       "\n",
       "    .dataframe thead th {\n",
       "        text-align: right;\n",
       "    }\n",
       "</style>\n",
       "<table border=\"1\" class=\"dataframe\">\n",
       "  <thead>\n",
       "    <tr style=\"text-align: right;\">\n",
       "      <th></th>\n",
       "      <th>src</th>\n",
       "      <th>rand</th>\n",
       "      <th>hash</th>\n",
       "      <th>rssi</th>\n",
       "      <th>ts</th>\n",
       "      <th>timestamp</th>\n",
       "      <th>deltaT</th>\n",
       "    </tr>\n",
       "  </thead>\n",
       "  <tbody>\n",
       "    <tr>\n",
       "      <th>6895</th>\n",
       "      <td>bt</td>\n",
       "      <td>False</td>\n",
       "      <td>00:25:00:51:ae:39</td>\n",
       "      <td>-83</td>\n",
       "      <td>2020-09-10T13:15:50.000Z</td>\n",
       "      <td>2020-10-15 13:15:50</td>\n",
       "      <td>2.37</td>\n",
       "    </tr>\n",
       "  </tbody>\n",
       "</table>\n",
       "</div>"
      ],
      "text/plain": [
       "     src   rand               hash  rssi                        ts  \\\n",
       "6895  bt  False  00:25:00:51:ae:39   -83  2020-09-10T13:15:50.000Z   \n",
       "\n",
       "               timestamp  deltaT  \n",
       "6895 2020-10-15 13:15:50    2.37  "
      ]
     },
     "execution_count": 122,
     "metadata": {},
     "output_type": "execute_result"
    }
   ],
   "source": [
    "sensor1data.loc[sensor1data['deltaT'] >= 1] #1 break taken at 13:13"
   ]
  },
  {
   "cell_type": "markdown",
   "metadata": {
    "button": false,
    "deletable": true,
    "new_sheet": false,
    "run_control": {
     "read_only": false
    }
   },
   "source": [
    "### 3.2. Second Sensor PK106"
   ]
  },
  {
   "cell_type": "code",
   "execution_count": 98,
   "metadata": {
    "button": false,
    "collapsed": false,
    "deletable": true,
    "new_sheet": false,
    "run_control": {
     "read_only": false
    }
   },
   "outputs": [
    {
     "data": {
      "text/html": [
       "<div>\n",
       "<style scoped>\n",
       "    .dataframe tbody tr th:only-of-type {\n",
       "        vertical-align: middle;\n",
       "    }\n",
       "\n",
       "    .dataframe tbody tr th {\n",
       "        vertical-align: top;\n",
       "    }\n",
       "\n",
       "    .dataframe thead th {\n",
       "        text-align: right;\n",
       "    }\n",
       "</style>\n",
       "<table border=\"1\" class=\"dataframe\">\n",
       "  <thead>\n",
       "    <tr style=\"text-align: right;\">\n",
       "      <th></th>\n",
       "      <th>src</th>\n",
       "      <th>rand</th>\n",
       "      <th>hash</th>\n",
       "      <th>rssi</th>\n",
       "      <th>ts</th>\n",
       "    </tr>\n",
       "  </thead>\n",
       "  <tbody>\n",
       "    <tr>\n",
       "      <th>0</th>\n",
       "      <td>bt</td>\n",
       "      <td>False</td>\n",
       "      <td>64:a2:f9:2d:1d:d7</td>\n",
       "      <td>-43</td>\n",
       "      <td>2020-09-14T09:16:39.000Z</td>\n",
       "    </tr>\n",
       "    <tr>\n",
       "      <th>1</th>\n",
       "      <td>bt</td>\n",
       "      <td>False</td>\n",
       "      <td>64:a2:f9:2d:1d:d7</td>\n",
       "      <td>-46</td>\n",
       "      <td>2020-09-14T09:16:44.000Z</td>\n",
       "    </tr>\n",
       "    <tr>\n",
       "      <th>2</th>\n",
       "      <td>bt</td>\n",
       "      <td>False</td>\n",
       "      <td>e4:85:01:45:64:f4</td>\n",
       "      <td>-81</td>\n",
       "      <td>2020-09-14T09:16:44.000Z</td>\n",
       "    </tr>\n",
       "    <tr>\n",
       "      <th>3</th>\n",
       "      <td>bt</td>\n",
       "      <td>False</td>\n",
       "      <td>64:a2:f9:2d:1d:d7</td>\n",
       "      <td>-40</td>\n",
       "      <td>2020-09-14T09:16:49.000Z</td>\n",
       "    </tr>\n",
       "    <tr>\n",
       "      <th>4</th>\n",
       "      <td>bt</td>\n",
       "      <td>False</td>\n",
       "      <td>64:a2:f9:2d:1d:d7</td>\n",
       "      <td>-39</td>\n",
       "      <td>2020-09-14T09:16:54.000Z</td>\n",
       "    </tr>\n",
       "  </tbody>\n",
       "</table>\n",
       "</div>"
      ],
      "text/plain": [
       "  src   rand               hash  rssi                        ts\n",
       "0  bt  False  64:a2:f9:2d:1d:d7   -43  2020-09-14T09:16:39.000Z\n",
       "1  bt  False  64:a2:f9:2d:1d:d7   -46  2020-09-14T09:16:44.000Z\n",
       "2  bt  False  e4:85:01:45:64:f4   -81  2020-09-14T09:16:44.000Z\n",
       "3  bt  False  64:a2:f9:2d:1d:d7   -40  2020-09-14T09:16:49.000Z\n",
       "4  bt  False  64:a2:f9:2d:1d:d7   -39  2020-09-14T09:16:54.000Z"
      ]
     },
     "execution_count": 98,
     "metadata": {},
     "output_type": "execute_result"
    }
   ],
   "source": [
    "sensor2data.head()"
   ]
  },
  {
   "cell_type": "code",
   "execution_count": 99,
   "metadata": {
    "button": false,
    "collapsed": false,
    "deletable": true,
    "new_sheet": false,
    "run_control": {
     "read_only": false
    }
   },
   "outputs": [
    {
     "data": {
      "text/html": [
       "<div>\n",
       "<style scoped>\n",
       "    .dataframe tbody tr th:only-of-type {\n",
       "        vertical-align: middle;\n",
       "    }\n",
       "\n",
       "    .dataframe tbody tr th {\n",
       "        vertical-align: top;\n",
       "    }\n",
       "\n",
       "    .dataframe thead th {\n",
       "        text-align: right;\n",
       "    }\n",
       "</style>\n",
       "<table border=\"1\" class=\"dataframe\">\n",
       "  <thead>\n",
       "    <tr style=\"text-align: right;\">\n",
       "      <th></th>\n",
       "      <th>src</th>\n",
       "      <th>rand</th>\n",
       "      <th>hash</th>\n",
       "      <th>rssi</th>\n",
       "      <th>ts</th>\n",
       "      <th>timestamp</th>\n",
       "    </tr>\n",
       "  </thead>\n",
       "  <tbody>\n",
       "    <tr>\n",
       "      <th>0</th>\n",
       "      <td>bt</td>\n",
       "      <td>False</td>\n",
       "      <td>64:a2:f9:2d:1d:d7</td>\n",
       "      <td>-43</td>\n",
       "      <td>2020-09-14T09:16:39.000Z</td>\n",
       "      <td>09:16:39</td>\n",
       "    </tr>\n",
       "    <tr>\n",
       "      <th>1</th>\n",
       "      <td>bt</td>\n",
       "      <td>False</td>\n",
       "      <td>64:a2:f9:2d:1d:d7</td>\n",
       "      <td>-46</td>\n",
       "      <td>2020-09-14T09:16:44.000Z</td>\n",
       "      <td>09:16:44</td>\n",
       "    </tr>\n",
       "    <tr>\n",
       "      <th>2</th>\n",
       "      <td>bt</td>\n",
       "      <td>False</td>\n",
       "      <td>e4:85:01:45:64:f4</td>\n",
       "      <td>-81</td>\n",
       "      <td>2020-09-14T09:16:44.000Z</td>\n",
       "      <td>09:16:44</td>\n",
       "    </tr>\n",
       "    <tr>\n",
       "      <th>3</th>\n",
       "      <td>bt</td>\n",
       "      <td>False</td>\n",
       "      <td>64:a2:f9:2d:1d:d7</td>\n",
       "      <td>-40</td>\n",
       "      <td>2020-09-14T09:16:49.000Z</td>\n",
       "      <td>09:16:49</td>\n",
       "    </tr>\n",
       "    <tr>\n",
       "      <th>4</th>\n",
       "      <td>bt</td>\n",
       "      <td>False</td>\n",
       "      <td>64:a2:f9:2d:1d:d7</td>\n",
       "      <td>-39</td>\n",
       "      <td>2020-09-14T09:16:54.000Z</td>\n",
       "      <td>09:16:54</td>\n",
       "    </tr>\n",
       "  </tbody>\n",
       "</table>\n",
       "</div>"
      ],
      "text/plain": [
       "  src   rand               hash  rssi                        ts timestamp\n",
       "0  bt  False  64:a2:f9:2d:1d:d7   -43  2020-09-14T09:16:39.000Z  09:16:39\n",
       "1  bt  False  64:a2:f9:2d:1d:d7   -46  2020-09-14T09:16:44.000Z  09:16:44\n",
       "2  bt  False  e4:85:01:45:64:f4   -81  2020-09-14T09:16:44.000Z  09:16:44\n",
       "3  bt  False  64:a2:f9:2d:1d:d7   -40  2020-09-14T09:16:49.000Z  09:16:49\n",
       "4  bt  False  64:a2:f9:2d:1d:d7   -39  2020-09-14T09:16:54.000Z  09:16:54"
      ]
     },
     "execution_count": 99,
     "metadata": {},
     "output_type": "execute_result"
    }
   ],
   "source": [
    "data = []\n",
    "for line in sensor2data[\"ts\"]:\n",
    "    time = re.search(\"(?:[01]\\d|2[0-3]):(?:[0-5]\\d):(?:[0-5]\\d)\", str(line))\n",
    "    if time:\n",
    "        data.append(time.group(0))\n",
    "    else:\n",
    "        data.append(\"no match\")\n",
    "sensor2data[\"timestamp\"] = data\n",
    "sensor2data.head()"
   ]
  },
  {
   "cell_type": "code",
   "execution_count": 114,
   "metadata": {
    "button": false,
    "collapsed": true,
    "deletable": true,
    "new_sheet": false,
    "run_control": {
     "read_only": false
    }
   },
   "outputs": [],
   "source": [
    "#make sure its in the right format\n",
    "sensor2data[\"timestamp\"] = pd.to_datetime(sensor2data[\"timestamp\"])"
   ]
  },
  {
   "cell_type": "code",
   "execution_count": null,
   "metadata": {
    "button": false,
    "collapsed": false,
    "deletable": true,
    "new_sheet": false,
    "run_control": {
     "read_only": false
    }
   },
   "outputs": [],
   "source": [
    "sensor2data.dtypes"
   ]
  },
  {
   "cell_type": "code",
   "execution_count": 116,
   "metadata": {
    "button": false,
    "collapsed": true,
    "deletable": true,
    "new_sheet": false,
    "run_control": {
     "read_only": false
    }
   },
   "outputs": [],
   "source": [
    "sensor2data[\"deltaT\"] = sensor2data[\"timestamp\"].diff().dt.seconds.div(60, fill_value = 0)\n"
   ]
  },
  {
   "cell_type": "code",
   "execution_count": 117,
   "metadata": {
    "button": false,
    "collapsed": true,
    "deletable": true,
    "new_sheet": false,
    "run_control": {
     "read_only": false
    }
   },
   "outputs": [],
   "source": [
    "sensor2data[\"deltaT\"] = sensor2data[\"deltaT\"].round(2)"
   ]
  },
  {
   "cell_type": "code",
   "execution_count": 118,
   "metadata": {
    "button": false,
    "collapsed": false,
    "deletable": true,
    "new_sheet": false,
    "run_control": {
     "read_only": false
    }
   },
   "outputs": [
    {
     "data": {
      "text/html": [
       "<div>\n",
       "<style scoped>\n",
       "    .dataframe tbody tr th:only-of-type {\n",
       "        vertical-align: middle;\n",
       "    }\n",
       "\n",
       "    .dataframe tbody tr th {\n",
       "        vertical-align: top;\n",
       "    }\n",
       "\n",
       "    .dataframe thead th {\n",
       "        text-align: right;\n",
       "    }\n",
       "</style>\n",
       "<table border=\"1\" class=\"dataframe\">\n",
       "  <thead>\n",
       "    <tr style=\"text-align: right;\">\n",
       "      <th></th>\n",
       "      <th>src</th>\n",
       "      <th>rand</th>\n",
       "      <th>hash</th>\n",
       "      <th>rssi</th>\n",
       "      <th>ts</th>\n",
       "      <th>timestamp</th>\n",
       "      <th>deltaT</th>\n",
       "    </tr>\n",
       "  </thead>\n",
       "  <tbody>\n",
       "    <tr>\n",
       "      <th>0</th>\n",
       "      <td>bt</td>\n",
       "      <td>False</td>\n",
       "      <td>64:a2:f9:2d:1d:d7</td>\n",
       "      <td>-43</td>\n",
       "      <td>2020-09-14T09:16:39.000Z</td>\n",
       "      <td>2020-10-15 09:16:39</td>\n",
       "      <td>0.00</td>\n",
       "    </tr>\n",
       "    <tr>\n",
       "      <th>1</th>\n",
       "      <td>bt</td>\n",
       "      <td>False</td>\n",
       "      <td>64:a2:f9:2d:1d:d7</td>\n",
       "      <td>-46</td>\n",
       "      <td>2020-09-14T09:16:44.000Z</td>\n",
       "      <td>2020-10-15 09:16:44</td>\n",
       "      <td>0.08</td>\n",
       "    </tr>\n",
       "    <tr>\n",
       "      <th>2</th>\n",
       "      <td>bt</td>\n",
       "      <td>False</td>\n",
       "      <td>e4:85:01:45:64:f4</td>\n",
       "      <td>-81</td>\n",
       "      <td>2020-09-14T09:16:44.000Z</td>\n",
       "      <td>2020-10-15 09:16:44</td>\n",
       "      <td>0.00</td>\n",
       "    </tr>\n",
       "    <tr>\n",
       "      <th>3</th>\n",
       "      <td>bt</td>\n",
       "      <td>False</td>\n",
       "      <td>64:a2:f9:2d:1d:d7</td>\n",
       "      <td>-40</td>\n",
       "      <td>2020-09-14T09:16:49.000Z</td>\n",
       "      <td>2020-10-15 09:16:49</td>\n",
       "      <td>0.08</td>\n",
       "    </tr>\n",
       "    <tr>\n",
       "      <th>4</th>\n",
       "      <td>bt</td>\n",
       "      <td>False</td>\n",
       "      <td>64:a2:f9:2d:1d:d7</td>\n",
       "      <td>-39</td>\n",
       "      <td>2020-09-14T09:16:54.000Z</td>\n",
       "      <td>2020-10-15 09:16:54</td>\n",
       "      <td>0.08</td>\n",
       "    </tr>\n",
       "  </tbody>\n",
       "</table>\n",
       "</div>"
      ],
      "text/plain": [
       "  src   rand               hash  rssi                        ts  \\\n",
       "0  bt  False  64:a2:f9:2d:1d:d7   -43  2020-09-14T09:16:39.000Z   \n",
       "1  bt  False  64:a2:f9:2d:1d:d7   -46  2020-09-14T09:16:44.000Z   \n",
       "2  bt  False  e4:85:01:45:64:f4   -81  2020-09-14T09:16:44.000Z   \n",
       "3  bt  False  64:a2:f9:2d:1d:d7   -40  2020-09-14T09:16:49.000Z   \n",
       "4  bt  False  64:a2:f9:2d:1d:d7   -39  2020-09-14T09:16:54.000Z   \n",
       "\n",
       "            timestamp  deltaT  \n",
       "0 2020-10-15 09:16:39    0.00  \n",
       "1 2020-10-15 09:16:44    0.08  \n",
       "2 2020-10-15 09:16:44    0.00  \n",
       "3 2020-10-15 09:16:49    0.08  \n",
       "4 2020-10-15 09:16:54    0.08  "
      ]
     },
     "execution_count": 118,
     "metadata": {},
     "output_type": "execute_result"
    }
   ],
   "source": [
    "sensor2data.head()"
   ]
  },
  {
   "cell_type": "code",
   "execution_count": 123,
   "metadata": {
    "button": false,
    "collapsed": false,
    "deletable": true,
    "new_sheet": false,
    "run_control": {
     "read_only": false
    }
   },
   "outputs": [
    {
     "data": {
      "text/html": [
       "<div>\n",
       "<style scoped>\n",
       "    .dataframe tbody tr th:only-of-type {\n",
       "        vertical-align: middle;\n",
       "    }\n",
       "\n",
       "    .dataframe tbody tr th {\n",
       "        vertical-align: top;\n",
       "    }\n",
       "\n",
       "    .dataframe thead th {\n",
       "        text-align: right;\n",
       "    }\n",
       "</style>\n",
       "<table border=\"1\" class=\"dataframe\">\n",
       "  <thead>\n",
       "    <tr style=\"text-align: right;\">\n",
       "      <th></th>\n",
       "      <th>src</th>\n",
       "      <th>rand</th>\n",
       "      <th>hash</th>\n",
       "      <th>rssi</th>\n",
       "      <th>ts</th>\n",
       "      <th>timestamp</th>\n",
       "      <th>deltaT</th>\n",
       "    </tr>\n",
       "  </thead>\n",
       "  <tbody>\n",
       "    <tr>\n",
       "      <th>545</th>\n",
       "      <td>bt</td>\n",
       "      <td>False</td>\n",
       "      <td>78:ab:bb:27:41:07</td>\n",
       "      <td>-82</td>\n",
       "      <td>2020-09-14T15:45:13.000Z</td>\n",
       "      <td>2020-10-15 15:45:13</td>\n",
       "      <td>383.27</td>\n",
       "    </tr>\n",
       "  </tbody>\n",
       "</table>\n",
       "</div>"
      ],
      "text/plain": [
       "    src   rand               hash  rssi                        ts  \\\n",
       "545  bt  False  78:ab:bb:27:41:07   -82  2020-09-14T15:45:13.000Z   \n",
       "\n",
       "              timestamp  deltaT  \n",
       "545 2020-10-15 15:45:13  383.27  "
      ]
     },
     "execution_count": 123,
     "metadata": {},
     "output_type": "execute_result"
    }
   ],
   "source": [
    "sensor2data.loc[sensor2data['deltaT'] >= 1] # from 9:21 to 15:45 break was taken"
   ]
  },
  {
   "cell_type": "markdown",
   "metadata": {
    "button": false,
    "deletable": true,
    "new_sheet": false,
    "run_control": {
     "read_only": false
    }
   },
   "source": [
    "# 4. Get some weather data"
   ]
  },
  {
   "cell_type": "code",
   "execution_count": 125,
   "metadata": {
    "button": false,
    "collapsed": true,
    "deletable": true,
    "new_sheet": false,
    "run_control": {
     "read_only": false
    }
   },
   "outputs": [],
   "source": [
    "weather = requests.get(\"https://api.worldweatheronline.com/premium/v1/past-weather.ashx?key=5afe4e86b71b4271a7094102201510&q=Zurich&format=json&date=2020-09-10&enddate=2020-09-15\")"
   ]
  },
  {
   "cell_type": "code",
   "execution_count": 128,
   "metadata": {
    "button": false,
    "collapsed": true,
    "deletable": true,
    "new_sheet": false,
    "run_control": {
     "read_only": false
    }
   },
   "outputs": [],
   "source": [
    "weather_text = weather.text"
   ]
  },
  {
   "cell_type": "code",
   "execution_count": 176,
   "metadata": {
    "button": false,
    "collapsed": false,
    "deletable": true,
    "new_sheet": false,
    "run_control": {
     "read_only": false
    }
   },
   "outputs": [
    {
     "name": "stdout",
     "output_type": "stream",
     "text": [
      "<class 'dict'>\n"
     ]
    }
   ],
   "source": [
    "weatherz = json.loads(weather_text)\n",
    "print(type(weatherz))"
   ]
  },
  {
   "cell_type": "code",
   "execution_count": null,
   "metadata": {
    "button": false,
    "collapsed": false,
    "deletable": true,
    "new_sheet": false,
    "run_control": {
     "read_only": false
    }
   },
   "outputs": [],
   "source": [
    "weatherz"
   ]
  },
  {
   "cell_type": "code",
   "execution_count": 178,
   "metadata": {
    "button": false,
    "collapsed": true,
    "deletable": true,
    "new_sheet": false,
    "run_control": {
     "read_only": false
    }
   },
   "outputs": [],
   "source": [
    "w1 = weatherz[\"data\"]"
   ]
  },
  {
   "cell_type": "code",
   "execution_count": 179,
   "metadata": {
    "button": false,
    "collapsed": false,
    "deletable": true,
    "new_sheet": false,
    "run_control": {
     "read_only": false
    }
   },
   "outputs": [
    {
     "data": {
      "text/plain": [
       "dict"
      ]
     },
     "execution_count": 179,
     "metadata": {},
     "output_type": "execute_result"
    }
   ],
   "source": [
    "type(w1) #still not a list"
   ]
  },
  {
   "cell_type": "code",
   "execution_count": 180,
   "metadata": {
    "button": false,
    "collapsed": true,
    "deletable": true,
    "new_sheet": false,
    "run_control": {
     "read_only": false
    }
   },
   "outputs": [],
   "source": [
    "w2 = w1[\"weather\"] # question access"
   ]
  },
  {
   "cell_type": "code",
   "execution_count": null,
   "metadata": {
    "button": false,
    "collapsed": false,
    "deletable": true,
    "new_sheet": false,
    "run_control": {
     "read_only": false
    }
   },
   "outputs": [],
   "source": [
    "w2"
   ]
  },
  {
   "cell_type": "code",
   "execution_count": 182,
   "metadata": {
    "button": false,
    "collapsed": true,
    "deletable": true,
    "new_sheet": false,
    "run_control": {
     "read_only": false
    }
   },
   "outputs": [],
   "source": [
    "# extracting multiple elements from a list with indices 0,4 \n",
    "# these are the dates I am interested in. \n",
    "w3 = [w2[i] for i in (0,4)] #1"
   ]
  },
  {
   "cell_type": "code",
   "execution_count": null,
   "metadata": {
    "button": false,
    "collapsed": false,
    "deletable": true,
    "new_sheet": false,
    "run_control": {
     "read_only": false
    }
   },
   "outputs": [],
   "source": [
    "w3 # this has list items that has dictionaries. "
   ]
  },
  {
   "cell_type": "code",
   "execution_count": null,
   "metadata": {
    "button": false,
    "collapsed": false,
    "deletable": true,
    "new_sheet": false,
    "run_control": {
     "read_only": false
    }
   },
   "outputs": [],
   "source": [
    "for weather_data in w3: #2\n",
    "    print(weather_data)"
   ]
  },
  {
   "cell_type": "code",
   "execution_count": 197,
   "metadata": {
    "button": false,
    "collapsed": false,
    "deletable": true,
    "new_sheet": false,
    "run_control": {
     "read_only": false
    }
   },
   "outputs": [
    {
     "data": {
      "text/plain": [
       "dict"
      ]
     },
     "execution_count": 197,
     "metadata": {},
     "output_type": "execute_result"
    }
   ],
   "source": [
    "type(weather_data)"
   ]
  },
  {
   "cell_type": "code",
   "execution_count": 198,
   "metadata": {
    "button": false,
    "collapsed": false,
    "deletable": true,
    "new_sheet": false,
    "run_control": {
     "read_only": false
    }
   },
   "outputs": [
    {
     "data": {
      "text/plain": [
       "dict_keys(['date', 'astronomy', 'maxtempC', 'maxtempF', 'mintempC', 'mintempF', 'avgtempC', 'avgtempF', 'totalSnow_cm', 'sunHour', 'uvIndex', 'hourly'])"
      ]
     },
     "execution_count": 198,
     "metadata": {},
     "output_type": "execute_result"
    }
   ],
   "source": [
    "weather_data.keys()"
   ]
  },
  {
   "cell_type": "code",
   "execution_count": 199,
   "metadata": {
    "button": false,
    "collapsed": true,
    "deletable": true,
    "new_sheet": false,
    "run_control": {
     "read_only": false
    }
   },
   "outputs": [],
   "source": [
    "hourly_access = weather_data[\"hourly\"] #3"
   ]
  },
  {
   "cell_type": "code",
   "execution_count": null,
   "metadata": {
    "button": false,
    "collapsed": false,
    "deletable": true,
    "new_sheet": false,
    "run_control": {
     "read_only": false
    }
   },
   "outputs": [],
   "source": [
    "hourly_access #this is a list"
   ]
  },
  {
   "cell_type": "code",
   "execution_count": null,
   "metadata": {
    "button": false,
    "collapsed": false,
    "deletable": true,
    "new_sheet": false,
    "run_control": {
     "read_only": false
    }
   },
   "outputs": [],
   "source": [
    "for time_data in hourly_access:   #4 #a dictionary\n",
    "    print(time_data)"
   ]
  },
  {
   "cell_type": "code",
   "execution_count": 202,
   "metadata": {
    "button": false,
    "collapsed": true,
    "deletable": true,
    "new_sheet": false,
    "run_control": {
     "read_only": false
    }
   },
   "outputs": [],
   "source": [
    "cloud_cover = time_data[\"cloudcover\"] #5"
   ]
  },
  {
   "cell_type": "code",
   "execution_count": 203,
   "metadata": {
    "button": false,
    "collapsed": false,
    "deletable": true,
    "new_sheet": false,
    "run_control": {
     "read_only": false
    }
   },
   "outputs": [
    {
     "data": {
      "text/plain": [
       "'4'"
      ]
     },
     "execution_count": 203,
     "metadata": {},
     "output_type": "execute_result"
    }
   ],
   "source": [
    "cloud_cover"
   ]
  },
  {
   "cell_type": "code",
   "execution_count": 232,
   "metadata": {
    "button": false,
    "collapsed": true,
    "deletable": true,
    "new_sheet": false,
    "run_control": {
     "read_only": false
    }
   },
   "outputs": [],
   "source": [
    "#combine them all together \n",
    "\n",
    "def get_cloud_cover():\n",
    "    w3 = [w2[i] for i in (0,4)]\n",
    "    for weather_data in w3:\n",
    "        hourly_access = weather_data[\"hourly\"]\n",
    "        for time_data in hourly_access:\n",
    "            cloud_cover = time_data[\"cloudcover\"]\n",
    "            cloudyness.append(cloud_cover)"
   ]
  },
  {
   "cell_type": "code",
   "execution_count": 233,
   "metadata": {
    "button": false,
    "collapsed": true,
    "deletable": true,
    "new_sheet": false,
    "run_control": {
     "read_only": false
    }
   },
   "outputs": [],
   "source": [
    "get_cloud_cover()"
   ]
  },
  {
   "cell_type": "code",
   "execution_count": 231,
   "metadata": {
    "button": false,
    "collapsed": true,
    "deletable": true,
    "new_sheet": false,
    "run_control": {
     "read_only": false
    }
   },
   "outputs": [],
   "source": [
    "cloudyness = []"
   ]
  },
  {
   "cell_type": "code",
   "execution_count": null,
   "metadata": {
    "button": false,
    "collapsed": false,
    "deletable": true,
    "new_sheet": false,
    "run_control": {
     "read_only": false
    }
   },
   "outputs": [],
   "source": [
    "cloudyness"
   ]
  },
  {
   "cell_type": "code",
   "execution_count": 235,
   "metadata": {
    "button": false,
    "collapsed": true,
    "deletable": true,
    "new_sheet": false,
    "run_control": {
     "read_only": false
    }
   },
   "outputs": [],
   "source": [
    "cloudyness  = DataFrame(cloudyness, columns=[\"cloudscale\"])"
   ]
  },
  {
   "cell_type": "code",
   "execution_count": 236,
   "metadata": {
    "button": false,
    "collapsed": true,
    "deletable": true,
    "new_sheet": false,
    "run_control": {
     "read_only": false
    }
   },
   "outputs": [],
   "source": [
    "hours = [0, 3, 6, 9, 12, 15, 18, 21, 0, 3, 6, 9, 12, 15, 18, 21]"
   ]
  },
  {
   "cell_type": "code",
   "execution_count": 237,
   "metadata": {
    "button": false,
    "collapsed": true,
    "deletable": true,
    "new_sheet": false,
    "run_control": {
     "read_only": false
    }
   },
   "outputs": [],
   "source": [
    "cloudyness[\"hours\"] = hours"
   ]
  },
  {
   "cell_type": "code",
   "execution_count": 238,
   "metadata": {
    "button": false,
    "collapsed": true,
    "deletable": true,
    "new_sheet": false,
    "run_control": {
     "read_only": false
    }
   },
   "outputs": [],
   "source": [
    "list1 = [\"PK92\", \"PK92\", \"PK92\", \"PK92\", \"PK92\", \"PK92\", \"PK92\", \"PK92\", \"PK106\",\"PK106\",\"PK106\",\"PK106\", \"PK106\", \"PK106\", \"PK106\", \"PK106\"]\n",
    "list2 = [0, 0, 0, 0, 1, 0, 0, 0, 0, 0, 0, 1, 1, 1, 0, 0]\n",
    "cloudyness[\"id\"] = list1\n",
    "cloudyness[\"breakstaken\"] = list2"
   ]
  },
  {
   "cell_type": "code",
   "execution_count": 239,
   "metadata": {
    "button": false,
    "collapsed": false,
    "deletable": true,
    "new_sheet": false,
    "run_control": {
     "read_only": false
    }
   },
   "outputs": [
    {
     "data": {
      "text/html": [
       "<div>\n",
       "<style scoped>\n",
       "    .dataframe tbody tr th:only-of-type {\n",
       "        vertical-align: middle;\n",
       "    }\n",
       "\n",
       "    .dataframe tbody tr th {\n",
       "        vertical-align: top;\n",
       "    }\n",
       "\n",
       "    .dataframe thead th {\n",
       "        text-align: right;\n",
       "    }\n",
       "</style>\n",
       "<table border=\"1\" class=\"dataframe\">\n",
       "  <thead>\n",
       "    <tr style=\"text-align: right;\">\n",
       "      <th></th>\n",
       "      <th>cloudscale</th>\n",
       "      <th>hours</th>\n",
       "      <th>id</th>\n",
       "      <th>breakstaken</th>\n",
       "    </tr>\n",
       "  </thead>\n",
       "  <tbody>\n",
       "    <tr>\n",
       "      <th>0</th>\n",
       "      <td>18</td>\n",
       "      <td>0</td>\n",
       "      <td>PK92</td>\n",
       "      <td>0</td>\n",
       "    </tr>\n",
       "    <tr>\n",
       "      <th>1</th>\n",
       "      <td>18</td>\n",
       "      <td>3</td>\n",
       "      <td>PK92</td>\n",
       "      <td>0</td>\n",
       "    </tr>\n",
       "    <tr>\n",
       "      <th>2</th>\n",
       "      <td>13</td>\n",
       "      <td>6</td>\n",
       "      <td>PK92</td>\n",
       "      <td>0</td>\n",
       "    </tr>\n",
       "    <tr>\n",
       "      <th>3</th>\n",
       "      <td>9</td>\n",
       "      <td>9</td>\n",
       "      <td>PK92</td>\n",
       "      <td>0</td>\n",
       "    </tr>\n",
       "    <tr>\n",
       "      <th>4</th>\n",
       "      <td>9</td>\n",
       "      <td>12</td>\n",
       "      <td>PK92</td>\n",
       "      <td>1</td>\n",
       "    </tr>\n",
       "  </tbody>\n",
       "</table>\n",
       "</div>"
      ],
      "text/plain": [
       "  cloudscale  hours    id  breakstaken\n",
       "0         18      0  PK92            0\n",
       "1         18      3  PK92            0\n",
       "2         13      6  PK92            0\n",
       "3          9      9  PK92            0\n",
       "4          9     12  PK92            1"
      ]
     },
     "execution_count": 239,
     "metadata": {},
     "output_type": "execute_result"
    }
   ],
   "source": [
    "cloudyness.head()"
   ]
  },
  {
   "cell_type": "code",
   "execution_count": 245,
   "metadata": {
    "button": false,
    "collapsed": true,
    "deletable": true,
    "new_sheet": false,
    "run_control": {
     "read_only": false
    }
   },
   "outputs": [],
   "source": [
    "cloudyness.to_excel(\"cloud.xlsx\", sheet_name = \"cloud\", index=False)"
   ]
  }
 ],
 "metadata": {
  "kernelspec": {
   "display_name": "Python 3",
   "language": "python",
   "name": "python3"
  },
  "language_info": {
   "codemirror_mode": {
    "name": "ipython",
    "version": 3
   },
   "file_extension": ".py",
   "mimetype": "text/x-python",
   "name": "python",
   "nbconvert_exporter": "python",
   "pygments_lexer": "ipython3",
   "version": "3.5.0"
  }
 },
 "nbformat": 4,
 "nbformat_minor": 4
}
