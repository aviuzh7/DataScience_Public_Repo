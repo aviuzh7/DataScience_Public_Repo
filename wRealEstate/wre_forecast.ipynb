{
 "cells": [
  {
   "cell_type": "code",
   "execution_count": 1,
   "id": "a5bd6a82",
   "metadata": {},
   "outputs": [],
   "source": [
    "import numpy as np\n",
    "import pandas as pd\n",
    "import matplotlib as mtpl\n",
    "import sklearn as sklearn\n",
    "import seaborn as seaborn\n",
    "import statsmodels as statsmodels\n",
    "import csv"
   ]
  },
  {
   "cell_type": "code",
   "execution_count": 29,
   "id": "8cb5b833",
   "metadata": {},
   "outputs": [],
   "source": [
    "forecast = pd.read_csv(\"zip_forecast.csv\")"
   ]
  },
  {
   "cell_type": "code",
   "execution_count": 30,
   "id": "dbcac4e8",
   "metadata": {},
   "outputs": [
    {
     "data": {
      "text/plain": [
       "(20512, 13)"
      ]
     },
     "execution_count": 30,
     "metadata": {},
     "output_type": "execute_result"
    }
   ],
   "source": [
    "forecast.shape"
   ]
  },
  {
   "cell_type": "code",
   "execution_count": 31,
   "id": "53409fda",
   "metadata": {},
   "outputs": [],
   "source": [
    "philly_forecast = forecast[forecast['State'] == 'PA']    "
   ]
  },
  {
   "cell_type": "code",
   "execution_count": 32,
   "id": "c13bbba1",
   "metadata": {},
   "outputs": [
    {
     "data": {
      "text/html": [
       "<div>\n",
       "<style scoped>\n",
       "    .dataframe tbody tr th:only-of-type {\n",
       "        vertical-align: middle;\n",
       "    }\n",
       "\n",
       "    .dataframe tbody tr th {\n",
       "        vertical-align: top;\n",
       "    }\n",
       "\n",
       "    .dataframe thead th {\n",
       "        text-align: right;\n",
       "    }\n",
       "</style>\n",
       "<table border=\"1\" class=\"dataframe\">\n",
       "  <thead>\n",
       "    <tr style=\"text-align: right;\">\n",
       "      <th></th>\n",
       "      <th>RegionID</th>\n",
       "      <th>SizeRank</th>\n",
       "      <th>RegionName</th>\n",
       "      <th>RegionType</th>\n",
       "      <th>StateName</th>\n",
       "      <th>...</th>\n",
       "      <th>CountyName</th>\n",
       "      <th>BaseDate</th>\n",
       "      <th>2023-04-30</th>\n",
       "      <th>2023-06-30</th>\n",
       "      <th>2024-03-31</th>\n",
       "    </tr>\n",
       "  </thead>\n",
       "  <tbody>\n",
       "    <tr>\n",
       "      <th>161</th>\n",
       "      <td>65787</td>\n",
       "      <td>165</td>\n",
       "      <td>19120</td>\n",
       "      <td>zip</td>\n",
       "      <td>PA</td>\n",
       "      <td>...</td>\n",
       "      <td>Philadelphia County</td>\n",
       "      <td>2023-03-31</td>\n",
       "      <td>-1.0</td>\n",
       "      <td>-1.9</td>\n",
       "      <td>-1.0</td>\n",
       "    </tr>\n",
       "    <tr>\n",
       "      <th>215</th>\n",
       "      <td>65791</td>\n",
       "      <td>219</td>\n",
       "      <td>19124</td>\n",
       "      <td>zip</td>\n",
       "      <td>PA</td>\n",
       "      <td>...</td>\n",
       "      <td>Philadelphia County</td>\n",
       "      <td>2023-03-31</td>\n",
       "      <td>-0.6</td>\n",
       "      <td>-1.5</td>\n",
       "      <td>-0.7</td>\n",
       "    </tr>\n",
       "    <tr>\n",
       "      <th>223</th>\n",
       "      <td>65133</td>\n",
       "      <td>227</td>\n",
       "      <td>17603</td>\n",
       "      <td>zip</td>\n",
       "      <td>PA</td>\n",
       "      <td>...</td>\n",
       "      <td>Lancaster County</td>\n",
       "      <td>2023-03-31</td>\n",
       "      <td>0.1</td>\n",
       "      <td>-0.3</td>\n",
       "      <td>0.5</td>\n",
       "    </tr>\n",
       "    <tr>\n",
       "      <th>266</th>\n",
       "      <td>65779</td>\n",
       "      <td>270</td>\n",
       "      <td>19111</td>\n",
       "      <td>zip</td>\n",
       "      <td>PA</td>\n",
       "      <td>...</td>\n",
       "      <td>Philadelphia County</td>\n",
       "      <td>2023-03-31</td>\n",
       "      <td>-0.1</td>\n",
       "      <td>-0.4</td>\n",
       "      <td>0.0</td>\n",
       "    </tr>\n",
       "    <tr>\n",
       "      <th>320</th>\n",
       "      <td>65810</td>\n",
       "      <td>325</td>\n",
       "      <td>19143</td>\n",
       "      <td>zip</td>\n",
       "      <td>PA</td>\n",
       "      <td>...</td>\n",
       "      <td>Philadelphia County</td>\n",
       "      <td>2023-03-31</td>\n",
       "      <td>-0.8</td>\n",
       "      <td>-2.3</td>\n",
       "      <td>-0.4</td>\n",
       "    </tr>\n",
       "  </tbody>\n",
       "</table>\n",
       "<p>5 rows × 13 columns</p>\n",
       "</div>"
      ],
      "text/plain": [
       "     RegionID  SizeRank  RegionName RegionType StateName  ...  \\\n",
       "161     65787       165       19120        zip        PA  ...   \n",
       "215     65791       219       19124        zip        PA  ...   \n",
       "223     65133       227       17603        zip        PA  ...   \n",
       "266     65779       270       19111        zip        PA  ...   \n",
       "320     65810       325       19143        zip        PA  ...   \n",
       "\n",
       "              CountyName    BaseDate 2023-04-30 2023-06-30 2024-03-31  \n",
       "161  Philadelphia County  2023-03-31       -1.0       -1.9       -1.0  \n",
       "215  Philadelphia County  2023-03-31       -0.6       -1.5       -0.7  \n",
       "223     Lancaster County  2023-03-31        0.1       -0.3        0.5  \n",
       "266  Philadelphia County  2023-03-31       -0.1       -0.4        0.0  \n",
       "320  Philadelphia County  2023-03-31       -0.8       -2.3       -0.4  \n",
       "\n",
       "[5 rows x 13 columns]"
      ]
     },
     "execution_count": 32,
     "metadata": {},
     "output_type": "execute_result"
    }
   ],
   "source": [
    "philly_forecast.head()"
   ]
  },
  {
   "cell_type": "code",
   "execution_count": 7,
   "id": "794159b6",
   "metadata": {},
   "outputs": [
    {
     "data": {
      "text/plain": [
       "RegionID        int64\n",
       "SizeRank        int64\n",
       "RegionName      int64\n",
       "RegionType     object\n",
       "StateName      object\n",
       "State          object\n",
       "City           object\n",
       "Metro          object\n",
       "CountyName     object\n",
       "BaseDate       object\n",
       "2023-04-30    float64\n",
       "2023-06-30    float64\n",
       "2024-03-31    float64\n",
       "dtype: object"
      ]
     },
     "execution_count": 7,
     "metadata": {},
     "output_type": "execute_result"
    }
   ],
   "source": [
    "philly_forecast.dtypes"
   ]
  },
  {
   "cell_type": "markdown",
   "id": "9d68888d",
   "metadata": {},
   "source": [
    "Give a description of ZHVI data, how it is calculuated, what it means, and how we can\n",
    "interpret that."
   ]
  },
  {
   "cell_type": "code",
   "execution_count": 33,
   "id": "a3645837",
   "metadata": {},
   "outputs": [],
   "source": [
    "philly_forecast = philly_forecast.drop(['SizeRank', 'RegionType'], axis = 1)"
   ]
  },
  {
   "cell_type": "code",
   "execution_count": 36,
   "id": "2873c12b",
   "metadata": {},
   "outputs": [
    {
     "data": {
      "text/html": [
       "<div>\n",
       "<style scoped>\n",
       "    .dataframe tbody tr th:only-of-type {\n",
       "        vertical-align: middle;\n",
       "    }\n",
       "\n",
       "    .dataframe tbody tr th {\n",
       "        vertical-align: top;\n",
       "    }\n",
       "\n",
       "    .dataframe thead th {\n",
       "        text-align: right;\n",
       "    }\n",
       "</style>\n",
       "<table border=\"1\" class=\"dataframe\">\n",
       "  <thead>\n",
       "    <tr style=\"text-align: right;\">\n",
       "      <th></th>\n",
       "      <th>RegionID</th>\n",
       "      <th>RegionName</th>\n",
       "      <th>StateName</th>\n",
       "      <th>State</th>\n",
       "      <th>City</th>\n",
       "      <th>CountyName</th>\n",
       "      <th>BaseDate</th>\n",
       "      <th>2023-04-30</th>\n",
       "      <th>2023-06-30</th>\n",
       "      <th>2024-03-31</th>\n",
       "    </tr>\n",
       "  </thead>\n",
       "  <tbody>\n",
       "    <tr>\n",
       "      <th>161</th>\n",
       "      <td>65787</td>\n",
       "      <td>19120</td>\n",
       "      <td>PA</td>\n",
       "      <td>PA</td>\n",
       "      <td>Philadelphia</td>\n",
       "      <td>Philadelphia County</td>\n",
       "      <td>2023-03-31</td>\n",
       "      <td>-1.0</td>\n",
       "      <td>-1.9</td>\n",
       "      <td>-1.0</td>\n",
       "    </tr>\n",
       "    <tr>\n",
       "      <th>215</th>\n",
       "      <td>65791</td>\n",
       "      <td>19124</td>\n",
       "      <td>PA</td>\n",
       "      <td>PA</td>\n",
       "      <td>Philadelphia</td>\n",
       "      <td>Philadelphia County</td>\n",
       "      <td>2023-03-31</td>\n",
       "      <td>-0.6</td>\n",
       "      <td>-1.5</td>\n",
       "      <td>-0.7</td>\n",
       "    </tr>\n",
       "    <tr>\n",
       "      <th>223</th>\n",
       "      <td>65133</td>\n",
       "      <td>17603</td>\n",
       "      <td>PA</td>\n",
       "      <td>PA</td>\n",
       "      <td>Lancaster</td>\n",
       "      <td>Lancaster County</td>\n",
       "      <td>2023-03-31</td>\n",
       "      <td>0.1</td>\n",
       "      <td>-0.3</td>\n",
       "      <td>0.5</td>\n",
       "    </tr>\n",
       "    <tr>\n",
       "      <th>266</th>\n",
       "      <td>65779</td>\n",
       "      <td>19111</td>\n",
       "      <td>PA</td>\n",
       "      <td>PA</td>\n",
       "      <td>Philadelphia</td>\n",
       "      <td>Philadelphia County</td>\n",
       "      <td>2023-03-31</td>\n",
       "      <td>-0.1</td>\n",
       "      <td>-0.4</td>\n",
       "      <td>0.0</td>\n",
       "    </tr>\n",
       "    <tr>\n",
       "      <th>320</th>\n",
       "      <td>65810</td>\n",
       "      <td>19143</td>\n",
       "      <td>PA</td>\n",
       "      <td>PA</td>\n",
       "      <td>Philadelphia</td>\n",
       "      <td>Philadelphia County</td>\n",
       "      <td>2023-03-31</td>\n",
       "      <td>-0.8</td>\n",
       "      <td>-2.3</td>\n",
       "      <td>-0.4</td>\n",
       "    </tr>\n",
       "  </tbody>\n",
       "</table>\n",
       "</div>"
      ],
      "text/plain": [
       "     RegionID  RegionName StateName State          City           CountyName  \\\n",
       "161     65787       19120        PA    PA  Philadelphia  Philadelphia County   \n",
       "215     65791       19124        PA    PA  Philadelphia  Philadelphia County   \n",
       "223     65133       17603        PA    PA     Lancaster     Lancaster County   \n",
       "266     65779       19111        PA    PA  Philadelphia  Philadelphia County   \n",
       "320     65810       19143        PA    PA  Philadelphia  Philadelphia County   \n",
       "\n",
       "       BaseDate  2023-04-30  2023-06-30  2024-03-31  \n",
       "161  2023-03-31        -1.0        -1.9        -1.0  \n",
       "215  2023-03-31        -0.6        -1.5        -0.7  \n",
       "223  2023-03-31         0.1        -0.3         0.5  \n",
       "266  2023-03-31        -0.1        -0.4         0.0  \n",
       "320  2023-03-31        -0.8        -2.3        -0.4  "
      ]
     },
     "execution_count": 36,
     "metadata": {},
     "output_type": "execute_result"
    }
   ],
   "source": [
    "philly_forecast.head(5)"
   ]
  },
  {
   "cell_type": "code",
   "execution_count": 35,
   "id": "7c9795c6",
   "metadata": {},
   "outputs": [],
   "source": [
    "philly_forecast = philly_forecast.drop(['Metro'], axis = 1)"
   ]
  },
  {
   "cell_type": "code",
   "execution_count": 17,
   "id": "83714205",
   "metadata": {},
   "outputs": [],
   "source": [
    "unique_region = philly_forecast['RegionName'].nunique()"
   ]
  },
  {
   "cell_type": "code",
   "execution_count": 18,
   "id": "8dc9f70e",
   "metadata": {},
   "outputs": [
    {
     "name": "stdout",
     "output_type": "stream",
     "text": [
      "1296\n"
     ]
    }
   ],
   "source": [
    "print(unique_region)"
   ]
  },
  {
   "cell_type": "code",
   "execution_count": 27,
   "id": "99eddf1f",
   "metadata": {},
   "outputs": [],
   "source": [
    "unique_city = philly_forecast['City'].nunique()"
   ]
  },
  {
   "cell_type": "code",
   "execution_count": 28,
   "id": "aaf50611",
   "metadata": {},
   "outputs": [
    {
     "name": "stdout",
     "output_type": "stream",
     "text": [
      "1069\n"
     ]
    }
   ],
   "source": [
    "print(unique_city)"
   ]
  },
  {
   "cell_type": "code",
   "execution_count": 38,
   "id": "a749f77e",
   "metadata": {},
   "outputs": [],
   "source": [
    "pa_df = philly_forecast.loc[philly_forecast['State'] == 'PA']"
   ]
  },
  {
   "cell_type": "code",
   "execution_count": 39,
   "id": "8d0bf9ea",
   "metadata": {},
   "outputs": [
    {
     "data": {
      "text/plain": [
       "(1296, 10)"
      ]
     },
     "execution_count": 39,
     "metadata": {},
     "output_type": "execute_result"
    }
   ],
   "source": [
    "pa_df.shape"
   ]
  },
  {
   "cell_type": "code",
   "execution_count": 40,
   "id": "5bdcc580",
   "metadata": {},
   "outputs": [],
   "source": [
    "pa_df.to_excel('philly_forecast.xlsx', index=False)"
   ]
  },
  {
   "cell_type": "code",
   "execution_count": null,
   "id": "d6bcf06b",
   "metadata": {},
   "outputs": [],
   "source": []
  }
 ],
 "metadata": {
  "kernelspec": {
   "display_name": "Python 3 (ipykernel)",
   "language": "python",
   "name": "python3"
  },
  "language_info": {
   "codemirror_mode": {
    "name": "ipython",
    "version": 3
   },
   "file_extension": ".py",
   "mimetype": "text/x-python",
   "name": "python",
   "nbconvert_exporter": "python",
   "pygments_lexer": "ipython3",
   "version": "3.9.7"
  }
 },
 "nbformat": 4,
 "nbformat_minor": 5
}
